{
 "cells": [
  {
   "cell_type": "markdown",
   "id": "9602ad23-7d02-40bd-85d2-8c17fcf6d041",
   "metadata": {},
   "source": [
    "# Importing Libraries & Getting The Raw Data"
   ]
  },
  {
   "cell_type": "code",
   "execution_count": 132,
   "id": "50a7664b-0ea4-44f0-975f-bdad43496f86",
   "metadata": {},
   "outputs": [
    {
     "name": "stdout",
     "output_type": "stream",
     "text": [
      "<Response [200]>\n",
      "(b'<!doctype html><html lang=\"en\"><head><link href=\"https://rukminim2.flixcart.'\n",
      " b'com\" rel=\"preconnect\"/><link rel=\"stylesheet\" href=\"//static-assets-web.flix'\n",
      " b'cart.com/fk-p-linchpin-web/fk-cp-zion/css/atlas.chunk.f9cc90.css\"/><link rel'\n",
      " b'=\"stylesheet\" href=\"//static-assets-web.flixcart.com/fk-p-linchpin-web/fk-cp'\n",
      " b'-zion/css/app_modules.chunk.c48a12.css\"/><link rel=\"stylesheet\" href=\"//stat'\n",
      " b'ic-assets-web.flixcart.com/fk-p-linchpin-web/fk-cp-zion/css/app.chunk.f32dbb'\n",
      " b'.css\"/><meta http-equiv=\"Content-type\" conte')\n"
     ]
    }
   ],
   "source": [
    "#Single Page\n",
    "import pandas as pd  # Import the pandas library for data manipulation and analysis. # So, that we can convert this project to csv\n",
    "import requests  # Import the requests library for sending HTTP requests. # requests is used to get the url data , which is present in the website.\n",
    "from bs4 import BeautifulSoup  # Import BeautifulSoup from bs4 for parsing HTML and XML documents. # So, that we can scrap our data\n",
    "import csv  # Import the csv module for handling CSV files\n",
    "from pprint import pprint  # Import pprint for pretty-printing data structures\n",
    "\n",
    "# Define headers to mimic a browser request (to avoid being blocked by websites)\n",
    "headers = {\n",
    "    'User-Agent': 'Mozilla/5.0 (Macintosh; Intel Mac OS X 10_11_6) AppleWebKit/537.36 (KHTML, like Gecko) Chrome/61.0.3163.100 Safari/537.36'\n",
    "}\n",
    "\n",
    "url = \"https://www.flipkart.com/mobiles-accessories/mobiles/pr?sid=tyy,4io&q=mobile&otracker=categorytree\" # we will send http requests to this url\n",
    "\n",
    "# Send a GET request to the specified Flipkart URL with the headers\n",
    "page = requests.get(url, headers=headers)  # .get so that we get to know the status code, an we will pass the url\n",
    "\n",
    "# Print the response object to check the status code of the request\n",
    "print(page)\n",
    "\n",
    "# Get the content of the page from the response\n",
    "fd = page.content\n",
    "\n",
    "# Pretty-print the first few lines of the page content for inspection\n",
    "pprint(fd[:500])  # Print only the first 500 characters to avoid too much output\n",
    "# pprint(fd) # Print all characters in the first page as output"
   ]
  },
  {
   "cell_type": "markdown",
   "id": "9ae22ffa-be63-4be4-b28c-b6a09070f889",
   "metadata": {},
   "source": [
    "# Converting Raw Data to HTML File"
   ]
  },
  {
   "cell_type": "code",
   "execution_count": 135,
   "id": "334067f7",
   "metadata": {},
   "outputs": [
    {
     "name": "stdout",
     "output_type": "stream",
     "text": [
      "('<!DOCTYPE html>\\n'\n",
      " '<html lang=\"en\"><head><link href=\"https://rukminim2.flixcart.com\" '\n",
      " 'rel=\"preconnect\"/><link '\n",
      " 'href=\"//static-assets-web.flixcart.com/fk-p-linchpin-web/fk-cp-zion/css/atlas.chunk.f9cc90.css\" '\n",
      " 'rel=\"stylesheet\"/><link '\n",
      " 'href=\"//static-assets-web.flixcart.com/fk-p-linchpin-web/fk-cp-zion/css/app_modules.chunk.c48a12.css\" '\n",
      " 'rel=\"stylesheet\"/><link '\n",
      " 'href=\"//static-assets-web.flixcart.com/fk-p-linchpin-web/fk-cp-zion/css/app.chunk.f32dbb.css\" '\n",
      " 'rel=\"stylesheet\"/><meta content=\"text/html; charset=ut')\n"
     ]
    }
   ],
   "source": [
    "# Making the raw data into HTML Format -> we get the formatted HTML File\n",
    "# Parse the HTML content of the page with BeautifulSoup\n",
    "soup = BeautifulSoup(fd, 'html.parser')\n",
    "# pprint(soup) # This will give us the full HTML File, but since it'll be large, we'll make it to 500 characters.\n",
    "\n",
    "# Convert the BeautifulSoup object to a string\n",
    "soup_str = str(soup)\n",
    "\n",
    "# Pretty-print the first 500 characters of the parsed HTML content for inspection\n",
    "pprint(soup_str[:500])"
   ]
  },
  {
   "cell_type": "markdown",
   "id": "3e3aebcf-819c-4042-95ff-cb31a1b255e0",
   "metadata": {},
   "source": [
    "# Getting the HTML Tags"
   ]
  },
  {
   "cell_type": "code",
   "execution_count": 138,
   "id": "637b65ba-5ce6-44b1-ade4-0410ca639efa",
   "metadata": {
    "scrolled": true
   },
   "outputs": [
    {
     "name": "stdout",
     "output_type": "stream",
     "text": [
      "[<div class=\"KzDlHZ\">Apple iPhone 15 (Black, 128 GB)</div>, <div class=\"KzDlHZ\">Apple iPhone 15 (Black, 256 GB)</div>, <div class=\"KzDlHZ\">Apple iPhone 15 (Blue, 128 GB)</div>, <div class=\"KzDlHZ\">Apple iPhone 15 (Pink, 128 GB)</div>, <div class=\"KzDlHZ\">Motorola g04s (Concord Black, 64 GB)</div>, <div class=\"KzDlHZ\">Motorola g64 5G (Mint Green, 128 GB)</div>, <div class=\"KzDlHZ\">Apple iPhone 14 Plus (Blue, 128 GB)</div>, <div class=\"KzDlHZ\">POCO M6 5G (Galactic Black, 128 GB)</div>, <div class=\"KzDlHZ\">REDMI 13C (Starfrost White, 128 GB)</div>, <div class=\"KzDlHZ\">Apple iPhone 15 (Blue, 256 GB)</div>, <div class=\"KzDlHZ\">Apple iPhone 15 Plus (Blue, 128 GB)</div>, <div class=\"KzDlHZ\">Apple iPhone 15 (Green, 128 GB)</div>, <div class=\"KzDlHZ\">Motorola Edge 50 Fusion (Marshmallow Blue, 128 GB)</div>, <div class=\"KzDlHZ\">Apple iPhone 14 Plus (Midnight, 128 GB)</div>, <div class=\"KzDlHZ\">REDMI 13C (Stardust Black, 128 GB)</div>, <div class=\"KzDlHZ\">Motorola G34 5G (Charcoal Black, 128 GB)</div>, <div class=\"KzDlHZ\">REDMI 13C (Starshine Green, 128 GB)</div>, <div class=\"KzDlHZ\">Motorola Edge 50 Fusion (Marshmallow Blue, 256 GB)</div>, <div class=\"KzDlHZ\">Motorola Edge 50 Fusion (Forest Blue, 128 GB)</div>, <div class=\"KzDlHZ\">Motorola Edge 50 Fusion (Hot Pink, 128 GB)</div>, <div class=\"KzDlHZ\">Motorola g04s (Satin Blue, 64 GB)</div>, <div class=\"KzDlHZ\">Motorola g04s (Sea Green, 64 GB)</div>, <div class=\"KzDlHZ\">Motorola G34 5G (Ocean Green, 128 GB)</div>, <div class=\"KzDlHZ\">Motorola g64 5G (Ice Lilac, 256 GB)</div>]\n"
     ]
    }
   ],
   "source": [
    "# Find all 'div' elements with the class 'KzDlHZ' within the parsed HTML content\n",
    "# (or you can use any other elements like a tag, etc.)\n",
    "content = soup.find_all('div', class_='KzDlHZ')\n",
    "\n",
    "# Print the list of found elements\n",
    "print(content)\n"
   ]
  },
  {
   "cell_type": "markdown",
   "id": "0bb72b32-b854-40d8-b2a2-b337a4dff9a0",
   "metadata": {},
   "source": [
    "# Getting the List of Items in a Dictionary"
   ]
  },
  {
   "cell_type": "code",
   "execution_count": 141,
   "id": "28ee3b26-4ed5-4ab0-8ea4-25f77c9b1a00",
   "metadata": {
    "scrolled": true
   },
   "outputs": [
    {
     "name": "stdout",
     "output_type": "stream",
     "text": [
      "{'Name': 'Apple iPhone 15 (Black, 128 GB)', 'Price': '₹65,499', 'Rating': '4.6'}\n",
      "{'Name': 'Apple iPhone 15 (Black, 256 GB)', 'Price': '₹75,499', 'Rating': '4.6'}\n",
      "{'Name': 'Apple iPhone 15 (Blue, 128 GB)', 'Price': '₹65,499', 'Rating': '4.6'}\n",
      "{'Name': 'Apple iPhone 15 (Pink, 128 GB)', 'Price': '₹65,499', 'Rating': '4.6'}\n",
      "{'Name': 'Motorola g04s (Concord Black, 64 GB)', 'Price': '₹6,999', 'Rating': '4.2'}\n",
      "{'Name': 'Motorola g64 5G (Mint Green, 128 GB)', 'Price': '₹13,999', 'Rating': '4.2'}\n",
      "{'Name': 'Apple iPhone 14 Plus (Blue, 128 GB)', 'Price': '₹56,999', 'Rating': '4.6'}\n",
      "{'Name': 'POCO M6 5G (Galactic Black, 128 GB)', 'Price': '₹9,999', 'Rating': '4.3'}\n",
      "{'Name': 'REDMI 13C (Starfrost White, 128 GB)', 'Price': '₹7,699', 'Rating': '4.2'}\n",
      "{'Name': 'Apple iPhone 15 (Blue, 256 GB)', 'Price': '₹75,499', 'Rating': '4.6'}\n",
      "{'Name': 'Apple iPhone 15 Plus (Blue, 128 GB)', 'Price': '₹74,999', 'Rating': '4.6'}\n",
      "{'Name': 'Apple iPhone 15 (Green, 128 GB)', 'Price': '₹65,499', 'Rating': '4.6'}\n",
      "{'Name': 'Motorola Edge 50 Fusion (Marshmallow Blue, 128 GB)', 'Price': '₹22,999', 'Rating': '4.5'}\n",
      "{'Name': 'Apple iPhone 14 Plus (Midnight, 128 GB)', 'Price': '₹56,999', 'Rating': '4.6'}\n",
      "{'Name': 'REDMI 13C (Stardust Black, 128 GB)', 'Price': '₹7,699', 'Rating': '4.2'}\n",
      "{'Name': 'Motorola G34 5G (Charcoal Black, 128 GB)', 'Price': '₹11,999', 'Rating': '4.2'}\n",
      "{'Name': 'REDMI 13C (Starshine Green, 128 GB)', 'Price': '₹7,699', 'Rating': '4.2'}\n",
      "{'Name': 'Motorola Edge 50 Fusion (Marshmallow Blue, 256 GB)', 'Price': '₹24,999', 'Rating': '4.5'}\n",
      "{'Name': 'Motorola Edge 50 Fusion (Forest Blue, 128 GB)', 'Price': '₹22,999', 'Rating': '4.5'}\n",
      "{'Name': 'Motorola Edge 50 Fusion (Hot Pink, 128 GB)', 'Price': '₹22,999', 'Rating': '4.5'}\n",
      "{'Name': 'Motorola g04s (Satin Blue, 64 GB)', 'Price': '₹6,999', 'Rating': '4.2'}\n",
      "{'Name': 'Motorola g04s (Sea Green, 64 GB)', 'Price': '₹6,999', 'Rating': '4.2'}\n",
      "{'Name': 'Motorola G34 5G (Ocean Green, 128 GB)', 'Price': '₹11,999', 'Rating': '4.2'}\n",
      "{'Name': 'Motorola g64 5G (Ice Lilac, 256 GB)', 'Price': '₹15,999', 'Rating': '4.2'}\n"
     ]
    }
   ],
   "source": [
    "\n",
    "'''\n",
    "itemlist =[]\n",
    "for item in content:\n",
    "    item_name = item.find('div',class_='_4rR01T')\n",
    "    item_price = item.find('div',class_='_30jeq3 _1_WHN1')\n",
    "    item_rate = item.find('div',class_='_3LWZlK')\n",
    "    if item_rate is not None:\n",
    "        item_dict = {'name':item_name.text,'price':item_price.text,'rate':item_rate.text}\n",
    "        itemlist.append(item_dict)\n",
    "        print(item_dict)\n",
    "        #print(item_name.text,item_price.text,item_rate.text)\n",
    "    #print(itemlist)\n",
    "'''\n",
    "\n",
    "soup = BeautifulSoup(fd, 'html.parser')  # Parse the HTML content with BeautifulSoup\n",
    "content = soup.find_all('div', class_='KzDlHZ')  # Find all elements that contain the item name\n",
    "\n",
    "itemlist = []  # Initialize an empty list to store the extracted item details\n",
    "\n",
    "for item in content:\n",
    "    item_name = item.get_text(strip=True)  # Extract and clean the text for the item name\n",
    "    item_price = item.find_next('div', class_='Nx9bqj _4b5DiR')  # Find the next div with the price class\n",
    "    item_rate = item.find_next('div', class_='XQDdHH')  # Find the next div with the rating class\n",
    "    \n",
    "    # Extract and clean text for price and rating, or use 'N/A' if not found\n",
    "    item_price_text = item_price.get_text(strip=True) if item_price else 'N/A'\n",
    "    item_rate_text = item_rate.get_text(strip=True) if item_rate else 'N/A'\n",
    "\n",
    "    if item_name and item_price_text and item_rate_text:  # Ensure all elements are present\n",
    "        item_dict = {'Name': item_name, 'Price': item_price_text, 'Rating': item_rate_text}  # Create a dictionary for the item\n",
    "        itemlist.append(item_dict)  # Add the dictionary to the list\n",
    "        print(item_dict)  # Print the item dictionary\n",
    "    else:\n",
    "        # Print a message if any element is missing\n",
    "        print(f\"Element not found: Name: {item_name}, Price: {item_price_text}, Rate: {item_rate_text}\")\n"
   ]
  },
  {
   "cell_type": "markdown",
   "id": "ee18ad9c-3c5c-4c1b-b90e-9afbabea84a5",
   "metadata": {},
   "source": [
    "# Saving The Data in CSV i.e XML Format "
   ]
  },
  {
   "cell_type": "code",
   "execution_count": 144,
   "id": "8bccbe5b-d298-4d66-bd26-3f56a36ca1b6",
   "metadata": {},
   "outputs": [],
   "source": [
    "file = open('flipkart_data.csv', 'w', encoding='utf-8', newline='')  # Open a new CSV file for writing, with UTF-8 encoding and no extra newlines\n",
    "# 'w': This mode stands for \"write\". It opens the file for writing. \n",
    "fieldname = ['Name', 'Price', 'Rating']  # Define the column headers for the CSV file\n",
    "\n",
    "writer = csv.DictWriter(file, fieldnames=fieldname)  # Create a DictWriter object for writing dictionaries to the CSV file\n",
    "writer.writeheader()  # Write the column headers to the CSV file\n",
    "writer.writerows(itemlist)  # Write all dictionaries in itemlist to the CSV file\n",
    "file.flush()  # Flush the internal buffer to ensure all data is written to the file\n",
    "file.close()  # Close the file to free up system resources"
   ]
  },
  {
   "cell_type": "code",
   "execution_count": 146,
   "id": "acbb59be-1bf0-4d44-a2c4-9a71353502cf",
   "metadata": {},
   "outputs": [],
   "source": [
    "import pandas as pd"
   ]
  },
  {
   "cell_type": "code",
   "execution_count": 148,
   "id": "f9414585-05d7-44aa-b4ca-3388e5fa4c2c",
   "metadata": {},
   "outputs": [
    {
     "data": {
      "text/html": [
       "<div>\n",
       "<style scoped>\n",
       "    .dataframe tbody tr th:only-of-type {\n",
       "        vertical-align: middle;\n",
       "    }\n",
       "\n",
       "    .dataframe tbody tr th {\n",
       "        vertical-align: top;\n",
       "    }\n",
       "\n",
       "    .dataframe thead th {\n",
       "        text-align: right;\n",
       "    }\n",
       "</style>\n",
       "<table border=\"1\" class=\"dataframe\">\n",
       "  <thead>\n",
       "    <tr style=\"text-align: right;\">\n",
       "      <th></th>\n",
       "      <th>Name</th>\n",
       "      <th>Price</th>\n",
       "      <th>Rating</th>\n",
       "    </tr>\n",
       "  </thead>\n",
       "  <tbody>\n",
       "    <tr>\n",
       "      <th>0</th>\n",
       "      <td>Apple iPhone 15 (Black, 128 GB)</td>\n",
       "      <td>₹65,499</td>\n",
       "      <td>4.6</td>\n",
       "    </tr>\n",
       "    <tr>\n",
       "      <th>1</th>\n",
       "      <td>Apple iPhone 15 (Black, 256 GB)</td>\n",
       "      <td>₹75,499</td>\n",
       "      <td>4.6</td>\n",
       "    </tr>\n",
       "    <tr>\n",
       "      <th>2</th>\n",
       "      <td>Apple iPhone 15 (Blue, 128 GB)</td>\n",
       "      <td>₹65,499</td>\n",
       "      <td>4.6</td>\n",
       "    </tr>\n",
       "    <tr>\n",
       "      <th>3</th>\n",
       "      <td>Apple iPhone 15 (Pink, 128 GB)</td>\n",
       "      <td>₹65,499</td>\n",
       "      <td>4.6</td>\n",
       "    </tr>\n",
       "    <tr>\n",
       "      <th>4</th>\n",
       "      <td>Motorola g04s (Concord Black, 64 GB)</td>\n",
       "      <td>₹6,999</td>\n",
       "      <td>4.2</td>\n",
       "    </tr>\n",
       "    <tr>\n",
       "      <th>5</th>\n",
       "      <td>Motorola g64 5G (Mint Green, 128 GB)</td>\n",
       "      <td>₹13,999</td>\n",
       "      <td>4.2</td>\n",
       "    </tr>\n",
       "    <tr>\n",
       "      <th>6</th>\n",
       "      <td>Apple iPhone 14 Plus (Blue, 128 GB)</td>\n",
       "      <td>₹56,999</td>\n",
       "      <td>4.6</td>\n",
       "    </tr>\n",
       "    <tr>\n",
       "      <th>7</th>\n",
       "      <td>POCO M6 5G (Galactic Black, 128 GB)</td>\n",
       "      <td>₹9,999</td>\n",
       "      <td>4.3</td>\n",
       "    </tr>\n",
       "    <tr>\n",
       "      <th>8</th>\n",
       "      <td>REDMI 13C (Starfrost White, 128 GB)</td>\n",
       "      <td>₹7,699</td>\n",
       "      <td>4.2</td>\n",
       "    </tr>\n",
       "    <tr>\n",
       "      <th>9</th>\n",
       "      <td>Apple iPhone 15 (Blue, 256 GB)</td>\n",
       "      <td>₹75,499</td>\n",
       "      <td>4.6</td>\n",
       "    </tr>\n",
       "    <tr>\n",
       "      <th>10</th>\n",
       "      <td>Apple iPhone 15 Plus (Blue, 128 GB)</td>\n",
       "      <td>₹74,999</td>\n",
       "      <td>4.6</td>\n",
       "    </tr>\n",
       "    <tr>\n",
       "      <th>11</th>\n",
       "      <td>Apple iPhone 15 (Green, 128 GB)</td>\n",
       "      <td>₹65,499</td>\n",
       "      <td>4.6</td>\n",
       "    </tr>\n",
       "    <tr>\n",
       "      <th>12</th>\n",
       "      <td>Motorola Edge 50 Fusion (Marshmallow Blue, 128...</td>\n",
       "      <td>₹22,999</td>\n",
       "      <td>4.5</td>\n",
       "    </tr>\n",
       "    <tr>\n",
       "      <th>13</th>\n",
       "      <td>Apple iPhone 14 Plus (Midnight, 128 GB)</td>\n",
       "      <td>₹56,999</td>\n",
       "      <td>4.6</td>\n",
       "    </tr>\n",
       "    <tr>\n",
       "      <th>14</th>\n",
       "      <td>REDMI 13C (Stardust Black, 128 GB)</td>\n",
       "      <td>₹7,699</td>\n",
       "      <td>4.2</td>\n",
       "    </tr>\n",
       "    <tr>\n",
       "      <th>15</th>\n",
       "      <td>Motorola G34 5G (Charcoal Black, 128 GB)</td>\n",
       "      <td>₹11,999</td>\n",
       "      <td>4.2</td>\n",
       "    </tr>\n",
       "    <tr>\n",
       "      <th>16</th>\n",
       "      <td>REDMI 13C (Starshine Green, 128 GB)</td>\n",
       "      <td>₹7,699</td>\n",
       "      <td>4.2</td>\n",
       "    </tr>\n",
       "    <tr>\n",
       "      <th>17</th>\n",
       "      <td>Motorola Edge 50 Fusion (Marshmallow Blue, 256...</td>\n",
       "      <td>₹24,999</td>\n",
       "      <td>4.5</td>\n",
       "    </tr>\n",
       "    <tr>\n",
       "      <th>18</th>\n",
       "      <td>Motorola Edge 50 Fusion (Forest Blue, 128 GB)</td>\n",
       "      <td>₹22,999</td>\n",
       "      <td>4.5</td>\n",
       "    </tr>\n",
       "    <tr>\n",
       "      <th>19</th>\n",
       "      <td>Motorola Edge 50 Fusion (Hot Pink, 128 GB)</td>\n",
       "      <td>₹22,999</td>\n",
       "      <td>4.5</td>\n",
       "    </tr>\n",
       "    <tr>\n",
       "      <th>20</th>\n",
       "      <td>Motorola g04s (Satin Blue, 64 GB)</td>\n",
       "      <td>₹6,999</td>\n",
       "      <td>4.2</td>\n",
       "    </tr>\n",
       "    <tr>\n",
       "      <th>21</th>\n",
       "      <td>Motorola g04s (Sea Green, 64 GB)</td>\n",
       "      <td>₹6,999</td>\n",
       "      <td>4.2</td>\n",
       "    </tr>\n",
       "    <tr>\n",
       "      <th>22</th>\n",
       "      <td>Motorola G34 5G (Ocean Green, 128 GB)</td>\n",
       "      <td>₹11,999</td>\n",
       "      <td>4.2</td>\n",
       "    </tr>\n",
       "    <tr>\n",
       "      <th>23</th>\n",
       "      <td>Motorola g64 5G (Ice Lilac, 256 GB)</td>\n",
       "      <td>₹15,999</td>\n",
       "      <td>4.2</td>\n",
       "    </tr>\n",
       "  </tbody>\n",
       "</table>\n",
       "</div>"
      ],
      "text/plain": [
       "                                                 Name    Price  Rating\n",
       "0                     Apple iPhone 15 (Black, 128 GB)  ₹65,499     4.6\n",
       "1                     Apple iPhone 15 (Black, 256 GB)  ₹75,499     4.6\n",
       "2                      Apple iPhone 15 (Blue, 128 GB)  ₹65,499     4.6\n",
       "3                      Apple iPhone 15 (Pink, 128 GB)  ₹65,499     4.6\n",
       "4                Motorola g04s (Concord Black, 64 GB)   ₹6,999     4.2\n",
       "5                Motorola g64 5G (Mint Green, 128 GB)  ₹13,999     4.2\n",
       "6                 Apple iPhone 14 Plus (Blue, 128 GB)  ₹56,999     4.6\n",
       "7                 POCO M6 5G (Galactic Black, 128 GB)   ₹9,999     4.3\n",
       "8                 REDMI 13C (Starfrost White, 128 GB)   ₹7,699     4.2\n",
       "9                      Apple iPhone 15 (Blue, 256 GB)  ₹75,499     4.6\n",
       "10                Apple iPhone 15 Plus (Blue, 128 GB)  ₹74,999     4.6\n",
       "11                    Apple iPhone 15 (Green, 128 GB)  ₹65,499     4.6\n",
       "12  Motorola Edge 50 Fusion (Marshmallow Blue, 128...  ₹22,999     4.5\n",
       "13            Apple iPhone 14 Plus (Midnight, 128 GB)  ₹56,999     4.6\n",
       "14                 REDMI 13C (Stardust Black, 128 GB)   ₹7,699     4.2\n",
       "15           Motorola G34 5G (Charcoal Black, 128 GB)  ₹11,999     4.2\n",
       "16                REDMI 13C (Starshine Green, 128 GB)   ₹7,699     4.2\n",
       "17  Motorola Edge 50 Fusion (Marshmallow Blue, 256...  ₹24,999     4.5\n",
       "18      Motorola Edge 50 Fusion (Forest Blue, 128 GB)  ₹22,999     4.5\n",
       "19         Motorola Edge 50 Fusion (Hot Pink, 128 GB)  ₹22,999     4.5\n",
       "20                  Motorola g04s (Satin Blue, 64 GB)   ₹6,999     4.2\n",
       "21                   Motorola g04s (Sea Green, 64 GB)   ₹6,999     4.2\n",
       "22              Motorola G34 5G (Ocean Green, 128 GB)  ₹11,999     4.2\n",
       "23                Motorola g64 5G (Ice Lilac, 256 GB)  ₹15,999     4.2"
      ]
     },
     "execution_count": 148,
     "metadata": {},
     "output_type": "execute_result"
    }
   ],
   "source": [
    "pd_dataframe = pd.read_csv(\"flipkart_data.csv\")  # Read the CSV file into a pandas DataFrame\n",
    "# pd_dataframe.head()  # Display the first few rows of the DataFrame\n",
    "\n",
    "pd.set_option('display.max_rows', None)  # Show all rows\n",
    "pd_dataframe  # Display the DataFrame"
   ]
  },
  {
   "cell_type": "code",
   "execution_count": null,
   "id": "c4b4c9fd-b5b1-46dd-8f70-e995929f4dcb",
   "metadata": {},
   "outputs": [],
   "source": [
    " "
   ]
  }
 ],
 "metadata": {
  "kernelspec": {
   "display_name": "Python 3 (ipykernel)",
   "language": "python",
   "name": "python3"
  },
  "language_info": {
   "codemirror_mode": {
    "name": "ipython",
    "version": 3
   },
   "file_extension": ".py",
   "mimetype": "text/x-python",
   "name": "python",
   "nbconvert_exporter": "python",
   "pygments_lexer": "ipython3",
   "version": "3.12.4"
  }
 },
 "nbformat": 4,
 "nbformat_minor": 5
}

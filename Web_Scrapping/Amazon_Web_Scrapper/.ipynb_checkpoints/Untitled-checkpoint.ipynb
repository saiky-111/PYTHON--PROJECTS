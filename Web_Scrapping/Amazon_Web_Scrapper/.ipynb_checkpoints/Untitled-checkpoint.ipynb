{
 "cells": [
  {
   "cell_type": "code",
   "execution_count": 145,
   "id": "a0261374-7a50-4a2c-95ba-da38c21c711f",
   "metadata": {},
   "outputs": [
    {
     "name": "stdout",
     "output_type": "stream",
     "text": [
      "<Response [200]>\n",
      "Product Title: Amazon Brand - Symbol Men's Cotton Rich Polo T Shirt | Collar Tshirts | Half Sleeves | Plain-Regular Fit\n",
      "Product Price: ₹399\n",
      "Product Rating: 3.9\n"
     ]
    }
   ],
   "source": [
    "# import libraries \n",
    "\n",
    "from bs4 import BeautifulSoup\n",
    "import requests\n",
    "import time\n",
    "import datetime\n",
    "\n",
    "import smtplib  \n",
    "\n",
    "# Connect to Website and pull in data\n",
    "\n",
    "URL = 'https://www.amazon.in/Amazon-Brand-Symbol-Regular-AW17MPCP10_S_Estate/dp/B073X4BHF8'\n",
    "\n",
    "headers = {\"User-Agent\": \"Mozilla/5.0 (Windows NT 10.0; Win64; x64) AppleWebKit/537.36 (KHTML, like Gecko) Chrome/78.0.3904.108 Safari/537.36\", \"Accept-Encoding\":\"gzip, deflate\", \"Accept\":\"text/html,application/xhtml+xml,application/xml;q=0.9,*/*;q=0.8\", \"DNT\":\"1\",\"Connection\":\"close\", \"Upgrade-Insecure-Requests\":\"1\"}\n",
    "\n",
    "page = requests.get(URL, headers=headers)\n",
    "print(page)\n",
    "\n",
    "\n",
    "soup1 = BeautifulSoup(page.content, \"html.parser\")\n",
    "\n",
    "soup2 = BeautifulSoup(soup1.prettify(), \"html.parser\")\n",
    "\n",
    "\n",
    "# Find the product title\n",
    "title_element = soup2.find(id='productTitle')\n",
    "if title_element:\n",
    "    title = title_element.get_text().strip()\n",
    "    print(\"Product Title:\", title)\n",
    "else:\n",
    "    print(\"Product title not found on this page.\") \n",
    "\n",
    "# Find the product price\n",
    "price_element = soup2.find('span', class_='a-price-whole')\n",
    "price_symbol_element = soup2.find('span', class_='a-price-symbol')\n",
    "\n",
    "if price_element and price_symbol_element:\n",
    "    price = price_symbol_element.get_text().strip() + price_element.get_text().strip()\n",
    "    print(\"Product Price:\", price)\n",
    "else:\n",
    "    print(\"Product price not found on this page.\")\n",
    "\n",
    "# Find the product rating\n",
    "rating_element = soup2.find('span', class_='a-size-base a-color-base')\n",
    "if rating_element:\n",
    "    rating = rating_element.get_text().strip()\n",
    "    print(\"Product Rating:\", rating)\n",
    "else:\n",
    "    print(\"Product rating not found on this page.\")\n"
   ]
  },
  {
   "cell_type": "code",
   "execution_count": 159,
   "id": "77313998-aa03-43d6-8c5b-dd64ad63fcc0",
   "metadata": {},
   "outputs": [
    {
     "data": {
      "text/plain": [
       "str"
      ]
     },
     "execution_count": 159,
     "metadata": {},
     "output_type": "execute_result"
    }
   ],
   "source": [
    "type(price)"
   ]
  },
  {
   "cell_type": "code",
   "execution_count": 201,
   "id": "4e528a53-45a2-4a04-8d27-644547fbc78d",
   "metadata": {},
   "outputs": [
    {
     "name": "stdout",
     "output_type": "stream",
     "text": [
      "2024-08-12\n"
     ]
    }
   ],
   "source": [
    "import datetime\n",
    "\n",
    "today = datetime.date.today()\n",
    "print(today)"
   ]
  },
  {
   "cell_type": "code",
   "execution_count": 203,
   "id": "5d979797-7e7c-4cbf-a572-a60e9b50e592",
   "metadata": {},
   "outputs": [],
   "source": [
    "import csv\n",
    "header = ['Title', 'Price', 'Rating', 'Date']\n",
    "data = [title, price, rating, today]"
   ]
  },
  {
   "cell_type": "code",
   "execution_count": 205,
   "id": "ca2d97cf-f732-47f7-9172-97cc889cc3cd",
   "metadata": {},
   "outputs": [
    {
     "data": {
      "text/plain": [
       "str"
      ]
     },
     "execution_count": 205,
     "metadata": {},
     "output_type": "execute_result"
    }
   ],
   "source": [
    "type(price)"
   ]
  },
  {
   "cell_type": "code",
   "execution_count": 207,
   "id": "70a96b3d-d1fd-4fbf-b930-eda394475af5",
   "metadata": {},
   "outputs": [],
   "source": [
    "with open('AmazonWebScraperDataset.csv', 'w', newline='', encoding='UTF8') as f:\n",
    "    writer = csv.writer(f)\n",
    "    writer.writerow(header)\n",
    "    writer.writerow(data)"
   ]
  },
  {
   "cell_type": "code",
   "execution_count": null,
   "id": "1aeaa3c3-9bcd-43a0-9ff1-e1d3f4efd96f",
   "metadata": {},
   "outputs": [],
   "source": []
  },
  {
   "cell_type": "code",
   "execution_count": 227,
   "id": "ccdb5d57-d38a-4b64-860c-51c97872e1f0",
   "metadata": {},
   "outputs": [
    {
     "name": "stdout",
     "output_type": "stream",
     "text": [
      "                                               Title Price  Rating        Date\n",
      "0  Amazon Brand - Symbol Men's Cotton Rich Polo T...  ₹399     3.9  2024-08-12\n"
     ]
    }
   ],
   "source": [
    "import pandas as pd\n",
    "\n",
    "# Ensure the file path is correct and accessible\n",
    "file_path = r'E:/#DATA_ANALYST_PORTFOLIO_PROJECTS/03_PYTHON/Web_Scrapping/Amazon_Web_Scrapper/AmazonWebScraperDataset.csv'\n",
    "\n",
    "try:\n",
    "    # Attempt to read the CSV file\n",
    "    df = pd.read_csv(file_path)\n",
    "    print(df)\n",
    "except FileNotFoundError:\n",
    "    print(f\"The file at {file_path} was not found.\")\n",
    "except pd.errors.EmptyDataError:\n",
    "    print(\"The file is empty.\")\n",
    "except pd.errors.ParserError:\n",
    "    print(\"There was an error parsing the file.\")\n",
    "except Exception as e:\n",
    "    print(f\"An unexpected error occurred: {e}\")\n"
   ]
  },
  {
   "cell_type": "code",
   "execution_count": 229,
   "id": "8102f735-2754-489c-93f0-4fa3e8ce602d",
   "metadata": {},
   "outputs": [],
   "source": [
    "#Combine all of the above code into one function\n",
    "\n",
    "\n",
    "def check_price():\n",
    "    URL = 'https://www.amazon.in/Amazon-Brand-Symbol-Regular-AW17MPCP10_S_Estate/dp/B073X4BHF8'\n",
    "\n",
    "    headers = {\"User-Agent\": \"Mozilla/5.0 (Windows NT 10.0; Win64; x64) AppleWebKit/537.36 (KHTML, like Gecko) Chrome/78.0.3904.108 Safari/537.36\", \"Accept-Encoding\":\"gzip, deflate\", \"Accept\":\"text/html,application/xhtml+xml,application/xml;q=0.9,*/*;q=0.8\", \"DNT\":\"1\",\"Connection\":\"close\", \"Upgrade-Insecure-Requests\":\"1\"}\n",
    "\n",
    "    page = requests.get(URL, headers=headers)\n",
    "\n",
    "    soup1 = BeautifulSoup(page.content, \"html.parser\")\n",
    "\n",
    "    soup2 = BeautifulSoup(soup1.prettify(), \"html.parser\")\n",
    "\n",
    "    # Find the product title\n",
    "    title_element = soup2.find(id='productTitle')\n",
    "    if title_element:\n",
    "        title = title_element.get_text().strip()\n",
    "        print(\"Product Title:\", title)\n",
    "    else:\n",
    "        print(\"Product title not found on this page.\") \n",
    "    \n",
    "    # Find the product price\n",
    "    price_element = soup2.find('span', class_='a-price-whole')\n",
    "    price_symbol_element = soup2.find('span', class_='a-price-symbol')\n",
    "    \n",
    "    if price_element and price_symbol_element:\n",
    "        price = price_symbol_element.get_text().strip() + price_element.get_text().strip()\n",
    "        print(\"Product Price:\", price)\n",
    "    else:\n",
    "        print(\"Product price not found on this page.\")\n",
    "    \n",
    "    # Find the product rating\n",
    "    rating_element = soup2.find('span', class_='a-size-base a-color-base')\n",
    "    if rating_element:\n",
    "        rating = rating_element.get_text().strip()\n",
    "        print(\"Product Rating:\", rating)\n",
    "    else:\n",
    "        print(\"Product rating not found on this page.\")\n",
    "    import datetime\n",
    "\n",
    "    today = datetime.date.today()\n",
    "    \n",
    "    import csv\n",
    "    header = ['Title', 'Price', 'Rating', 'Date']\n",
    "    data = [title, price, rating, today]\n",
    "\n",
    "    with open('AmazonWebScraperDataset.csv', 'a+', newline='', encoding='UTF8') as f:\n",
    "        writer = csv.writer(f)\n",
    "        writer.writerow(data)"
   ]
  },
  {
   "cell_type": "code",
   "execution_count": 256,
   "id": "0fbd6400-c8a9-4fed-b344-14aa0f4eb00c",
   "metadata": {},
   "outputs": [
    {
     "name": "stdout",
     "output_type": "stream",
     "text": [
      "Product title not found on this page.\n",
      "Product price not found on this page.\n",
      "Product rating not found on this page.\n"
     ]
    },
    {
     "ename": "UnboundLocalError",
     "evalue": "cannot access local variable 'title' where it is not associated with a value",
     "output_type": "error",
     "traceback": [
      "\u001b[1;31m---------------------------------------------------------------------------\u001b[0m",
      "\u001b[1;31mUnboundLocalError\u001b[0m                         Traceback (most recent call last)",
      "Cell \u001b[1;32mIn[256], line 4\u001b[0m\n\u001b[0;32m      1\u001b[0m \u001b[38;5;66;03m# Runs check_price after a set time and inputs data into your CSV\u001b[39;00m\n\u001b[0;32m      3\u001b[0m \u001b[38;5;28;01mwhile\u001b[39;00m(\u001b[38;5;28;01mTrue\u001b[39;00m):\n\u001b[1;32m----> 4\u001b[0m     \u001b[43mcheck_price\u001b[49m\u001b[43m(\u001b[49m\u001b[43m)\u001b[49m\n\u001b[0;32m      5\u001b[0m     time\u001b[38;5;241m.\u001b[39msleep(\u001b[38;5;241m5\u001b[39m)\n",
      "Cell \u001b[1;32mIn[229], line 46\u001b[0m, in \u001b[0;36mcheck_price\u001b[1;34m()\u001b[0m\n\u001b[0;32m     44\u001b[0m \u001b[38;5;28;01mimport\u001b[39;00m \u001b[38;5;21;01mcsv\u001b[39;00m\n\u001b[0;32m     45\u001b[0m header \u001b[38;5;241m=\u001b[39m [\u001b[38;5;124m'\u001b[39m\u001b[38;5;124mTitle\u001b[39m\u001b[38;5;124m'\u001b[39m, \u001b[38;5;124m'\u001b[39m\u001b[38;5;124mPrice\u001b[39m\u001b[38;5;124m'\u001b[39m, \u001b[38;5;124m'\u001b[39m\u001b[38;5;124mRating\u001b[39m\u001b[38;5;124m'\u001b[39m, \u001b[38;5;124m'\u001b[39m\u001b[38;5;124mDate\u001b[39m\u001b[38;5;124m'\u001b[39m]\n\u001b[1;32m---> 46\u001b[0m data \u001b[38;5;241m=\u001b[39m [\u001b[43mtitle\u001b[49m, price, rating, today]\n\u001b[0;32m     48\u001b[0m \u001b[38;5;28;01mwith\u001b[39;00m \u001b[38;5;28mopen\u001b[39m(\u001b[38;5;124m'\u001b[39m\u001b[38;5;124mAmazonWebScraperDataset.csv\u001b[39m\u001b[38;5;124m'\u001b[39m, \u001b[38;5;124m'\u001b[39m\u001b[38;5;124ma+\u001b[39m\u001b[38;5;124m'\u001b[39m, newline\u001b[38;5;241m=\u001b[39m\u001b[38;5;124m'\u001b[39m\u001b[38;5;124m'\u001b[39m, encoding\u001b[38;5;241m=\u001b[39m\u001b[38;5;124m'\u001b[39m\u001b[38;5;124mUTF8\u001b[39m\u001b[38;5;124m'\u001b[39m) \u001b[38;5;28;01mas\u001b[39;00m f:\n\u001b[0;32m     49\u001b[0m     writer \u001b[38;5;241m=\u001b[39m csv\u001b[38;5;241m.\u001b[39mwriter(f)\n",
      "\u001b[1;31mUnboundLocalError\u001b[0m: cannot access local variable 'title' where it is not associated with a value"
     ]
    }
   ],
   "source": [
    "# Runs check_price after a set time and inputs data into your CSV\n",
    "\n",
    "while(True):\n",
    "    check_price()\n",
    "    time.sleep(5)"
   ]
  },
  {
   "cell_type": "code",
   "execution_count": 250,
   "id": "55107f26-c4c3-46bc-abf4-ce076149d258",
   "metadata": {},
   "outputs": [
    {
     "name": "stdout",
     "output_type": "stream",
     "text": [
      "                                               Title Price  Rating        Date\n",
      "0  Amazon Brand - Symbol Men's Cotton Rich Polo T...  ₹399     3.9  2024-08-12\n"
     ]
    }
   ],
   "source": [
    "import pandas as pd\n",
    "\n",
    "# Ensure the file path is correct and accessible\n",
    "file_path = r'E:/#DATA_ANALYST_PORTFOLIO_PROJECTS/03_PYTHON/Web_Scrapping/Amazon_Web_Scrapper/AmazonWebScraperDataset.csv'\n",
    "\n",
    "try:\n",
    "    # Attempt to read the CSV file\n",
    "    df = pd.read_csv(file_path)\n",
    "    print(df)\n",
    "except FileNotFoundError:\n",
    "    print(f\"The file at {file_path} was not found.\")\n",
    "except pd.errors.EmptyDataError:\n",
    "    print(\"The file is empty.\")\n",
    "except pd.errors.ParserError:\n",
    "    print(\"There was an error parsing the file.\")\n",
    "except Exception as e:\n",
    "    print(f\"An unexpected error occurred: {e}\")"
   ]
  },
  {
   "cell_type": "code",
   "execution_count": 252,
   "id": "16dfe238-ea3c-426c-9579-daaa6c18c0ad",
   "metadata": {},
   "outputs": [],
   "source": [
    "# If uou want to try sending yourself an email (just for fun) when a price hits below a certain level you can try it\n",
    "# out with this script\n",
    "\n",
    "def send_mail():\n",
    "    server = smtplib.SMTP_SSL('smtp.gmail.com',465)\n",
    "    server.ehlo()\n",
    "    #server.starttls()\n",
    "    server.ehlo()\n",
    "    server.login('AlexTheAnalyst95@gmail.com','xxxxxxxxxxxxxx')\n",
    "    \n",
    "    subject = \"The Shirt you want is below $15! Now is your chance to buy!\"\n",
    "    body = \"Alex, This is the moment we have been waiting for. Now is your chance to pick up the shirt of your dreams. Don't mess it up! Link here: https://www.amazon.com/Funny-Data-Systems-Business-Analyst/dp/B07FNW9FGJ/ref=sr_1_3?dchild=1&keywords=data+analyst+tshirt&qid=1626655184&sr=8-3\"\n",
    "   \n",
    "    msg = f\"Subject: {subject}\\n\\n{body}\"\n",
    "    \n",
    "    server.sendmail(\n",
    "        'AlexTheAnalyst95@gmail.com',\n",
    "        msg\n",
    "     \n",
    "    )"
   ]
  },
  {
   "cell_type": "code",
   "execution_count": null,
   "id": "b084bf2c-3065-46c6-9ad6-55787897a782",
   "metadata": {},
   "outputs": [],
   "source": []
  }
 ],
 "metadata": {
  "kernelspec": {
   "display_name": "Python 3 (ipykernel)",
   "language": "python",
   "name": "python3"
  },
  "language_info": {
   "codemirror_mode": {
    "name": "ipython",
    "version": 3
   },
   "file_extension": ".py",
   "mimetype": "text/x-python",
   "name": "python",
   "nbconvert_exporter": "python",
   "pygments_lexer": "ipython3",
   "version": "3.12.4"
  }
 },
 "nbformat": 4,
 "nbformat_minor": 5
}
